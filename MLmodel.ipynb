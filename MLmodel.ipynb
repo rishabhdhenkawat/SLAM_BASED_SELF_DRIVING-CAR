{
 "cells": [
  {
   "cell_type": "code",
   "execution_count": 5,
   "metadata": {},
   "outputs": [],
   "source": [
    "from keras.preprocessing import image\n",
    "from matplotlib.pyplot import imshow\n",
    "import os\n",
    "from IPython.display import display \n",
    "from PIL import Image\n",
    "from keras.models import load_model\n",
    "\n",
    "import numpy as np\n",
    "from keras import layers\n",
    "from keras.layers import Input, Dense, Activation, ZeroPadding2D, BatchNormalization, Flatten, Conv2D\n",
    "from keras.layers import AveragePooling2D, MaxPooling2D, Dropout, GlobalMaxPooling2D, GlobalAveragePooling2D\n",
    "from keras.models import Model\n",
    "from keras.preprocessing import image\n",
    "from keras.utils import layer_utils\n",
    "from keras.utils.data_utils import get_file\n",
    "from keras.applications.imagenet_utils import preprocess_input\n",
    "from IPython.display import SVG\n",
    "from keras.utils.vis_utils import model_to_dot\n",
    "from keras.utils import plot_model\n",
    "#from kt_utils import *\n",
    "from keras import optimizers\n",
    "\n",
    "import keras.backend as K\n",
    "K.set_image_data_format('channels_last')\n",
    "import matplotlib.pyplot as plt\n",
    "from matplotlib.pyplot import imshow\n",
    "\n",
    "import glob\n",
    "import pandas as pd\n",
    "from sklearn.utils import shuffle\n",
    "\n",
    "%matplotlib inline"
   ]
  },
  {
   "cell_type": "code",
   "execution_count": 6,
   "metadata": {},
   "outputs": [],
   "source": [
    "#load images\n",
    "filelist = glob.glob(os.path.join('images/a','*.jpg'))\n",
    "a = np.array([np.array(Image.open(fname)) for fname in filelist])\n",
    "ay = np.zeros(a.shape[0])\n",
    "\n",
    "filelist = glob.glob(os.path.join('images/w','*.jpg'))\n",
    "w = np.array([np.array(Image.open(fname)) for fname in filelist])\n",
    "wy = np.ones(w.shape[0])\n",
    "\n",
    "filelist = glob.glob(os.path.join('images/d','*.jpg'))\n",
    "d = np.array([np.array(Image.open(fname)) for fname in filelist])\n",
    "dy = np.ones(d.shape[0])*2\n",
    "\n",
    "filelist = glob.glob(os.path.join('images/q','*.jpg'))\n",
    "q = np.array([np.array(Image.open(fname)) for fname in filelist])\n",
    "qy = np.ones(q.shape[0])*3\n"
   ]
  },
  {
   "cell_type": "code",
   "execution_count": 7,
   "metadata": {},
   "outputs": [],
   "source": [
    "#randomly split into train and test\n",
    "aX, aY = shuffle(a, ay, random_state=0)\n",
    "wX, wY = shuffle(w, wy, random_state=0)\n",
    "dX, dY = shuffle(d, dy, random_state=0)\n",
    "qX, qY = shuffle(q, qy, random_state=0)\n",
    "del (a, ay, w, wy, d, dy, q, qy)"
   ]
  },
  {
   "cell_type": "code",
   "execution_count": 8,
   "metadata": {},
   "outputs": [],
   "source": [
    "#decrease sizhttp://localhost:8891/notebooks/MLmodel.ipynb#e of w\n",
    "length_d = int(dX.shape[0] * 1.3)\n",
    "wX = wX[:length_d]\n",
    "wY = wY[:length_d]"
   ]
  },
  {
   "cell_type": "code",
   "execution_count": 11,
   "metadata": {},
   "outputs": [],
   "source": [
    "#randomly split into train and test\n",
    "allX = np.concatenate((qX, np.concatenate((np.concatenate((aX , wX)) , dX))))\n",
    "allY = np.concatenate((qY, np.concatenate((np.concatenate((aY , wY)) , dY))))\n",
    "\n",
    "#one hot encode\n",
    "allY = pd.get_dummies(allY).values\n",
    "\n",
    "del (wX, wY)"
   ]
  },
  {
   "cell_type": "code",
   "execution_count": 12,
   "metadata": {},
   "outputs": [],
   "source": [
    "allX, allY = shuffle(allX, allY, random_state=0)\n",
    "percent = int(allX.shape[0]*0.17)\n",
    "testX = allX[:percent]\n",
    "trainX = allX[percent:]\n",
    "testY =allY[:percent]\n",
    "trainY =allY[percent:]\n",
    "\n",
    "del (allX, allY)"
   ]
  },
  {
   "cell_type": "code",
   "execution_count": 13,
   "metadata": {},
   "outputs": [
    {
     "name": "stdout",
     "output_type": "stream",
     "text": [
      "[0 0 1 0]\n"
     ]
    }
   ],
   "source": [
    "#Show test image\n",
    "img = Image.fromarray(testX[10], 'RGB')\n",
    "img.show()\n",
    "print(testY[10])"
   ]
  },
  {
   "cell_type": "markdown",
   "metadata": {},
   "source": [
    "Now we have trainX, trainY, testX and testY with test being 17% of the data"
   ]
  },
  {
   "cell_type": "code",
   "execution_count": 24,
   "metadata": {},
   "outputs": [],
   "source": [
    "def cModel(input_shape):\n",
    "    \n",
    "    X_input = Input(input_shape)\n",
    "\n",
    "    # CONV -> BN -> RELU Block applied to X_input\n",
    "    X = Conv2D(6, (6,6), strides=(1, 1), name='conv0', padding = 'same')(X_input)\n",
    "    X = BatchNormalization(axis=3, name='bn0')(X)\n",
    "    X = Activation('relu')(X)\n",
    "\n",
    "    # MAXPOOL\n",
    "    X = MaxPooling2D((2, 2), name='max_pool0')(X)\n",
    "    \n",
    "    # CONV -> BN -> RELU Block applied to X\n",
    "    X = Conv2D(16, (5,5), strides=(1, 1), name='conv1', padding = 'valid')(X)\n",
    "    X = BatchNormalization(axis=3, name='bn1')(X)\n",
    "    X = Activation('relu')(X)\n",
    "\n",
    "    # MAXPOOL\n",
    "    X = MaxPooling2D((2, 2), name='max_pool1')(X)\n",
    "    \n",
    "    # CONV -> BN -> RELU Block applied to X\n",
    "    X = Conv2D(8, (3, 3), strides=(1, 1), name='conv2', padding = 'valid')(X)\n",
    "    X = BatchNormalization(axis=3, name='bn2')(X)\n",
    "    X = Activation('relu')(X)\n",
    "\n",
    "    # MAXPOOL\n",
    "    X = MaxPooling2D((2, 2), name='max_pool2')(X)\n",
    "\n",
    "    # FLATTEN X (means convert it to a vector) + FULLYCONNECTED\n",
    "    X = Flatten()(X)\n",
    "    X = Dense(units=4, activation='sigmoid', name='fc')(X)\n",
    "    \n",
    "\n",
    "    # Create model. This creates your Keras model instance, you'll use this instance to train/test the model.\n",
    "    model = Model(inputs=X_input, outputs=X, name='cModel')\n",
    "\n",
    "    return model\n",
    "    \n",
    "   "
   ]
  },
  {
   "cell_type": "code",
   "execution_count": 25,
   "metadata": {},
   "outputs": [],
   "source": [
    "endModel = cModel(trainX.shape[1:])"
   ]
  },
  {
   "cell_type": "code",
   "execution_count": 26,
   "metadata": {},
   "outputs": [],
   "source": [
    "optimizers.SGD(lr=0.0001, momentum=0.0, decay=0.0, nesterov=False)\n",
    "endModel.compile('Adam', 'mean_squared_error', metrics=['accuracy'])\n",
    "#SGD ~40\n",
    "#RMSprop ~90\n",
    "#Adam ~94"
   ]
  },
  {
   "cell_type": "code",
   "execution_count": 27,
   "metadata": {},
   "outputs": [
    {
     "name": "stdout",
     "output_type": "stream",
     "text": [
      "Epoch 1/25\n",
      "2241/2241 [==============================] - 55s 25ms/step - loss: 0.1649 - acc: 0.5145\n",
      "Epoch 2/25\n",
      "2241/2241 [==============================] - 51s 23ms/step - loss: 0.0980 - acc: 0.7456\n",
      "Epoch 3/25\n",
      "2241/2241 [==============================] - 51s 23ms/step - loss: 0.0826 - acc: 0.7916\n",
      "Epoch 4/25\n",
      "2241/2241 [==============================] - 67s 30ms/step - loss: 0.0742 - acc: 0.8197\n",
      "Epoch 5/25\n",
      "2241/2241 [==============================] - 62s 28ms/step - loss: 0.0759 - acc: 0.8121\n",
      "Epoch 6/25\n",
      "2241/2241 [==============================] - 61s 27ms/step - loss: 0.0701 - acc: 0.8300\n",
      "Epoch 7/25\n",
      "2241/2241 [==============================] - 53s 24ms/step - loss: 0.0658 - acc: 0.8385\n",
      "Epoch 8/25\n",
      "2241/2241 [==============================] - 54s 24ms/step - loss: 0.0666 - acc: 0.8385\n",
      "Epoch 9/25\n",
      "2241/2241 [==============================] - 52s 23ms/step - loss: 0.0603 - acc: 0.8599\n",
      "Epoch 10/25\n",
      "2241/2241 [==============================] - 56s 25ms/step - loss: 0.0570 - acc: 0.8652\n",
      "Epoch 11/25\n",
      "2241/2241 [==============================] - 53s 24ms/step - loss: 0.0553 - acc: 0.8688\n",
      "Epoch 12/25\n",
      "2241/2241 [==============================] - 56s 25ms/step - loss: 0.0529 - acc: 0.8786\n",
      "Epoch 13/25\n",
      "2241/2241 [==============================] - 56s 25ms/step - loss: 0.0534 - acc: 0.8795\n",
      "Epoch 14/25\n",
      "2241/2241 [==============================] - 51s 23ms/step - loss: 0.0498 - acc: 0.8871\n",
      "Epoch 15/25\n",
      "2241/2241 [==============================] - 52s 23ms/step - loss: 0.0532 - acc: 0.8786\n",
      "Epoch 16/25\n",
      "2241/2241 [==============================] - 53s 23ms/step - loss: 0.0470 - acc: 0.8916\n",
      "Epoch 17/25\n",
      "2241/2241 [==============================] - 53s 24ms/step - loss: 0.0584 - acc: 0.8608\n",
      "Epoch 18/25\n",
      "2241/2241 [==============================] - 53s 24ms/step - loss: 0.0475 - acc: 0.8880\n",
      "Epoch 19/25\n",
      "2241/2241 [==============================] - 55s 24ms/step - loss: 0.0515 - acc: 0.8809\n",
      "Epoch 20/25\n",
      "2241/2241 [==============================] - 53s 24ms/step - loss: 0.0439 - acc: 0.9032\n",
      "Epoch 21/25\n",
      "2241/2241 [==============================] - 52s 23ms/step - loss: 0.0520 - acc: 0.8764\n",
      "Epoch 22/25\n",
      "2241/2241 [==============================] - 52s 23ms/step - loss: 0.0440 - acc: 0.9018\n",
      "Epoch 23/25\n",
      "2241/2241 [==============================] - 50s 22ms/step - loss: 0.0453 - acc: 0.9018\n",
      "Epoch 24/25\n",
      "2241/2241 [==============================] - 50s 22ms/step - loss: 0.0610 - acc: 0.8559\n",
      "Epoch 25/25\n",
      "2241/2241 [==============================] - 49s 22ms/step - loss: 0.0467 - acc: 0.8951\n"
     ]
    },
    {
     "data": {
      "text/plain": [
       "<keras.callbacks.History at 0x10d414f28>"
      ]
     },
     "execution_count": 27,
     "metadata": {},
     "output_type": "execute_result"
    }
   ],
   "source": [
    "endModel.fit(trainX, trainY, epochs=25, batch_size=64)"
   ]
  },
  {
   "cell_type": "code",
   "execution_count": 28,
   "metadata": {},
   "outputs": [
    {
     "name": "stdout",
     "output_type": "stream",
     "text": [
      "459/459 [==============================] - 5s 11ms/step\n",
      "\n",
      "Loss = 0.08353495467981742\n",
      "Test Accuracy = 0.7930283229595176\n"
     ]
    }
   ],
   "source": [
    "preds = endModel.evaluate(testX, testY, batch_size=32, verbose=1, sample_weight=None)\n",
    "\n",
    "print()\n",
    "print (\"Loss = \" + str(preds[0]))\n",
    "print (\"Test Accuracy = \" + str(preds[1]))"
   ]
  },
  {
   "cell_type": "code",
   "execution_count": 29,
   "metadata": {},
   "outputs": [
    {
     "name": "stdout",
     "output_type": "stream",
     "text": [
      "[[5.3888862e-04 9.8368627e-01 1.9208815e-02 5.5741685e-07]]\n",
      "1\n"
     ]
    }
   ],
   "source": [
    "results = (endModel.predict(np.expand_dims(testX[8], axis=0)))\n",
    "#results = (endModel.predict(testX[6:7]))\n",
    "print(results)\n",
    "results = np.argmax(results, axis = 1)  \n",
    "           \n",
    "print(results[0])"
   ]
  },
  {
   "cell_type": "code",
   "execution_count": 30,
   "metadata": {},
   "outputs": [],
   "source": [
    "endModel.save('my_model.h5', overwrite=True)"
   ]
  },
  {
   "cell_type": "code",
   "execution_count": 31,
   "metadata": {},
   "outputs": [],
   "source": [
    "del endModel"
   ]
  },
  {
   "cell_type": "code",
   "execution_count": 32,
   "metadata": {},
   "outputs": [
    {
     "name": "stdout",
     "output_type": "stream",
     "text": [
      "\n",
      "[1]\n"
     ]
    }
   ],
   "source": [
    "\n",
    "endModel = load_model('my_model.h5')\n",
    "yFit = endModel.predict(np.expand_dims(testX[8], axis=0))\n",
    "yFit = np.argmax(yFit, axis = 1)  \n",
    "print()\n",
    "print(yFit)"
   ]
  },
  {
   "cell_type": "code",
   "execution_count": null,
   "metadata": {},
   "outputs": [],
   "source": []
  }
 ],
 "metadata": {
  "kernelspec": {
   "display_name": "Python 3",
   "language": "python",
   "name": "python3"
  },
  "language_info": {
   "codemirror_mode": {
    "name": "ipython",
    "version": 3
   },
   "file_extension": ".py",
   "mimetype": "text/x-python",
   "name": "python",
   "nbconvert_exporter": "python",
   "pygments_lexer": "ipython3",
   "version": "3.6.4"
  }
 },
 "nbformat": 4,
 "nbformat_minor": 2
}
